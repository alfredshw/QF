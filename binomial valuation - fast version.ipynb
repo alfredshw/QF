{
 "cells": [
  {
   "cell_type": "markdown",
   "metadata": {},
   "source": [
    "## Binomial Model - fast version"
   ]
  },
  {
   "cell_type": "code",
   "execution_count": 24,
   "metadata": {},
   "outputs": [],
   "source": [
    "from math import *"
   ]
  },
  {
   "cell_type": "markdown",
   "metadata": {},
   "source": [
    "#### Define market parameters"
   ]
  },
  {
   "cell_type": "code",
   "execution_count": 25,
   "metadata": {},
   "outputs": [],
   "source": [
    "spec=[\"C\",1]\n",
    "am=0\n",
    "r=0.05\n",
    "tenor=1\n",
    "steps=2000\n",
    "dt=tenor/steps\n",
    "vol=0.25"
   ]
  },
  {
   "cell_type": "markdown",
   "metadata": {},
   "source": [
    "#### Calculate risk neutral probabilities"
   ]
  },
  {
   "cell_type": "code",
   "execution_count": 26,
   "metadata": {},
   "outputs": [],
   "source": [
    "u=exp(vol*sqrt(dt))\n",
    "d=exp(-vol*sqrt(dt))\n",
    "PB=(exp(r*dt)-d)/(u-d)"
   ]
  },
  {
   "cell_type": "markdown",
   "metadata": {},
   "source": [
    "#### Define asset prices at maturity"
   ]
  },
  {
   "cell_type": "code",
   "execution_count": 27,
   "metadata": {},
   "outputs": [],
   "source": [
    "mat = [\"\" for i in range(steps)]\n",
    "mat[-1]=pow(u,steps-1)\n",
    "for i in range(steps-2,-1,-1):\n",
    "    mat[i]=mat[i+1]*d/u"
   ]
  },
  {
   "cell_type": "markdown",
   "metadata": {},
   "source": [
    "#### Define option payoff at maturity"
   ]
  },
  {
   "cell_type": "code",
   "execution_count": 28,
   "metadata": {},
   "outputs": [],
   "source": [
    "for i in range(steps-1,-1,-1):\n",
    "    mat[i]=max(mat[i]-spec[1],0)"
   ]
  },
  {
   "cell_type": "markdown",
   "metadata": {},
   "source": [
    "#### Model execution"
   ]
  },
  {
   "cell_type": "code",
   "execution_count": 29,
   "metadata": {},
   "outputs": [
    {
     "name": "stdout",
     "output_type": "stream",
     "text": [
      "0.1233319451794911\n"
     ]
    }
   ],
   "source": [
    "for i in range(steps-1):\n",
    "    for j in range(steps-1,i,-1):\n",
    "        x=mat[j]*PB+mat[j-1]*(1-PB)\n",
    "        if am==1:\n",
    "            mat[j]=max((u**j)/(u**i)-spec[1],x)\n",
    "        else:\n",
    "            mat[j]=x\n",
    "\n",
    "print(exp(-r*tenor)*mat[-1])"
   ]
  }
 ],
 "metadata": {
  "kernelspec": {
   "display_name": "Python 3",
   "language": "python",
   "name": "python3"
  },
  "language_info": {
   "codemirror_mode": {
    "name": "ipython",
    "version": 3
   },
   "file_extension": ".py",
   "mimetype": "text/x-python",
   "name": "python",
   "nbconvert_exporter": "python",
   "pygments_lexer": "ipython3",
   "version": "3.11.5"
  },
  "orig_nbformat": 4
 },
 "nbformat": 4,
 "nbformat_minor": 2
}
