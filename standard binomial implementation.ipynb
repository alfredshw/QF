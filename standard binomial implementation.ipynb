{
 "cells": [
  {
   "cell_type": "markdown",
   "metadata": {},
   "source": [
    "## Standard Binomial implementation"
   ]
  },
  {
   "cell_type": "code",
   "execution_count": 1,
   "metadata": {},
   "outputs": [],
   "source": [
    "from math import *"
   ]
  },
  {
   "cell_type": "markdown",
   "metadata": {},
   "source": [
    "#### define market & option parameters"
   ]
  },
  {
   "cell_type": "code",
   "execution_count": 2,
   "metadata": {},
   "outputs": [],
   "source": [
    "spec=[\"C\",1]\n",
    "tenor=1\n",
    "r=0.05\n",
    "volatility=0.25\n",
    "am=0\n",
    "T=255"
   ]
  },
  {
   "cell_type": "markdown",
   "metadata": {},
   "source": [
    "### setting up risk neutral probabilities"
   ]
  },
  {
   "cell_type": "code",
   "execution_count": 3,
   "metadata": {},
   "outputs": [],
   "source": [
    "    \n",
    "dt=tenor/T\n",
    "u=exp(volatility*sqrt(dt))\n",
    "d=exp(-volatility*sqrt(dt))\n",
    "PB=(exp(r*dt)-d)/(u-d)"
   ]
  },
  {
   "cell_type": "markdown",
   "metadata": {},
   "source": [
    "### model execution"
   ]
  },
  {
   "cell_type": "code",
   "execution_count": 4,
   "metadata": {},
   "outputs": [
    {
     "name": "stdout",
     "output_type": "stream",
     "text": [
      "0.12295425011187908\n"
     ]
    }
   ],
   "source": [
    "mat = [[\"\" for i in range(T)] for j in range(T)]\n",
    "\n",
    "def P(s, row, col, steps):\n",
    "    global T, u, d, PB, spec, mat\n",
    "    if steps<T-1:\n",
    "        if mat[row][col]==\"\":\n",
    "            x=P(s*u,row,col+1,steps+1)*PB+P(s*d,row+1,col+1,steps+1)*(1-PB)\n",
    "            mat[row][col]=x\n",
    "        else:\n",
    "            x=mat[row][col]\n",
    "        return x\n",
    "    else:\n",
    "        if s>spec[1]:\n",
    "            mat[row][col]=s-spec[1]\n",
    "            return s-spec[1]\n",
    "        mat[row][col]=0\n",
    "    return 0\n",
    "\n",
    "print(exp(-r*tenor)*P(1,0,0,0))\n"
   ]
  }
 ],
 "metadata": {
  "kernelspec": {
   "display_name": "Python 3",
   "language": "python",
   "name": "python3"
  },
  "language_info": {
   "codemirror_mode": {
    "name": "ipython",
    "version": 3
   },
   "file_extension": ".py",
   "mimetype": "text/x-python",
   "name": "python",
   "nbconvert_exporter": "python",
   "pygments_lexer": "ipython3",
   "version": "3.11.5"
  },
  "orig_nbformat": 4
 },
 "nbformat": 4,
 "nbformat_minor": 2
}
