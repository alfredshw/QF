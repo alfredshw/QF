{
 "cells": [
  {
   "cell_type": "markdown",
   "metadata": {},
   "source": [
    "## Binomial implementation with enhanced storage efficiency"
   ]
  },
  {
   "cell_type": "code",
   "execution_count": 1,
   "metadata": {},
   "outputs": [],
   "source": [
    "from math import *"
   ]
  },
  {
   "cell_type": "markdown",
   "metadata": {},
   "source": [
    "### define market & option parameters"
   ]
  },
  {
   "cell_type": "code",
   "execution_count": 2,
   "metadata": {},
   "outputs": [],
   "source": [
    "spec=[\"C\",1]\n",
    "am=0\n",
    "r=0.05\n",
    "tenor=1\n",
    "steps=2000\n",
    "volatility=0.25"
   ]
  },
  {
   "cell_type": "markdown",
   "metadata": {},
   "source": [
    "### setup risk neutral probabilities"
   ]
  },
  {
   "cell_type": "code",
   "execution_count": 3,
   "metadata": {},
   "outputs": [],
   "source": [
    "dt=tenor/steps\n",
    "u=exp(volatility*sqrt(dt))\n",
    "d=exp(-volatility*sqrt(dt))\n",
    "PB=(exp(r*dt)-d)/(u-d)"
   ]
  },
  {
   "cell_type": "markdown",
   "metadata": {},
   "source": [
    "### setup option boundary conditions (payoff at maturity)"
   ]
  },
  {
   "cell_type": "code",
   "execution_count": 4,
   "metadata": {},
   "outputs": [],
   "source": [
    "mat = [\"\" for i in range(steps)]\n",
    "mat[0]=pow(u,steps-1)\n",
    "\n",
    "for i in range(1,steps):\n",
    "    mat[i]=mat[i-1]*d/u\n",
    "\n",
    "for i in range(steps):\n",
    "    mat[i]=max(mat[i]-spec[1],0)"
   ]
  },
  {
   "cell_type": "markdown",
   "metadata": {},
   "source": [
    "### model execution"
   ]
  },
  {
   "cell_type": "code",
   "execution_count": 5,
   "metadata": {},
   "outputs": [
    {
     "name": "stdout",
     "output_type": "stream",
     "text": [
      "0.1233319451794911\n"
     ]
    }
   ],
   "source": [
    "for i in range(steps-1):\n",
    "    for j in range(steps-1-i):\n",
    "        x=mat[j]*PB+mat[j+1]*(1-PB)\n",
    "        if am==1:\n",
    "            mat[j]=max(mat[j]/u-spec[1],0)\n",
    "        else:\n",
    "            mat[j]=x\n",
    "\n",
    "print(exp(-r*tenor)*mat[0])"
   ]
  }
 ],
 "metadata": {
  "kernelspec": {
   "display_name": "Python 3",
   "language": "python",
   "name": "python3"
  },
  "language_info": {
   "codemirror_mode": {
    "name": "ipython",
    "version": 3
   },
   "file_extension": ".py",
   "mimetype": "text/x-python",
   "name": "python",
   "nbconvert_exporter": "python",
   "pygments_lexer": "ipython3",
   "version": "3.11.5"
  },
  "orig_nbformat": 4
 },
 "nbformat": 4,
 "nbformat_minor": 2
}
